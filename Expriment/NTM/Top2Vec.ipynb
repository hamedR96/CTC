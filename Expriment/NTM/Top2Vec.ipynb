{
 "cells": [
  {
   "cell_type": "code",
   "execution_count": 1,
   "metadata": {
    "collapsed": true
   },
   "outputs": [],
   "source": [
    "from nltk import word_tokenize\n",
    "from nltk.corpus import stopwords\n",
    "from nltk.stem import WordNetLemmatizer\n",
    "import string\n",
    "import re\n",
    "from sklearn.datasets import fetch_20newsgroups\n",
    "import pandas as pd\n",
    "import swifter\n",
    "import numpy as np\n",
    "from top2vec import Top2Vec"
   ]
  },
  {
   "cell_type": "code",
   "execution_count": 2,
   "outputs": [],
   "source": [
    "\n",
    "stop_words = list(set(stopwords.words('english')))\n",
    "\n",
    "def preprocess_text(text):\n",
    "    text = text.lower()\n",
    "    text = re.sub(r'[{}0-9]'.format(string.punctuation), ' ', text)\n",
    "    text=re.sub(r'[^A-Za-z0-9 ]+', ' ', text)\n",
    "    text = word_tokenize(text)\n",
    "    text = [word for word in text if word not in stop_words]\n",
    "    text = [WordNetLemmatizer().lemmatize(word) for word in text]\n",
    "    text = ' '.join(text)\n",
    "    return text"
   ],
   "metadata": {
    "collapsed": false
   }
  },
  {
   "cell_type": "code",
   "execution_count": 2,
   "outputs": [
    {
     "data": {
      "text/plain": "Pandas Apply:   0%|          | 0/18846 [00:00<?, ?it/s]",
      "application/vnd.jupyter.widget-view+json": {
       "version_major": 2,
       "version_minor": 0,
       "model_id": "8effd6103847448d9720b7fc954298e8"
      }
     },
     "metadata": {},
     "output_type": "display_data"
    }
   ],
   "source": [
    "newsgroups = fetch_20newsgroups(subset='all', remove=('headers', 'footers', 'quotes'))\n",
    "df=pd.DataFrame({\"content\":newsgroups[\"data\"]})\n",
    "\n",
    "df[\"content\"]=df[\"content\"].swifter.apply(lambda x: preprocess_text(x))\n",
    "df['content_length'] = df['content'].str.len()\n",
    "\n",
    "df = df[df['content_length'] > 100]\n",
    "df = df[df['content_length'] < 2000]\n",
    "\n",
    "df=df[[\"content\"]].reset_index(drop=True).reset_index().rename(columns={\"index\":\"id\"})\n",
    "documents=df.content.to_list()"
   ],
   "metadata": {
    "collapsed": false
   }
  },
  {
   "cell_type": "code",
   "execution_count": 6,
   "outputs": [
    {
     "name": "stderr",
     "output_type": "stream",
     "text": [
      "2023-04-12 15:49:15,887 - top2vec - INFO - Pre-processing documents for training\n",
      "2023-04-12 15:49:17,520 - top2vec - INFO - Creating joint document/word embedding\n",
      "2023-04-12 15:49:56,684 - top2vec - INFO - Creating lower dimension embedding of documents\n",
      "2023-04-12 15:49:59,511 - top2vec - INFO - Finding dense areas of documents\n",
      "2023-04-12 15:49:59,705 - top2vec - INFO - Finding topics\n"
     ]
    }
   ],
   "source": [
    "model = Top2Vec(documents=documents,speed=\"learn\", workers=12)\n",
    "model.save(\"top2vec_20newgroup\")\n",
    "#model = Top2Vec.load(\"filename\")"
   ],
   "metadata": {
    "collapsed": false
   }
  },
  {
   "cell_type": "code",
   "execution_count": 6,
   "outputs": [
    {
     "data": {
      "text/plain": "Pandas Apply:   0%|          | 0/14268 [00:00<?, ?it/s]",
      "application/vnd.jupyter.widget-view+json": {
       "version_major": 2,
       "version_minor": 0,
       "model_id": "06b2f4f9fc3c4edda85d58dcf80fc1f1"
      }
     },
     "metadata": {},
     "output_type": "display_data"
    },
    {
     "name": "stderr",
     "output_type": "stream",
     "text": [
      "2023-04-26 10:55:17,622 - top2vec - INFO - Pre-processing documents for training\n",
      "2023-04-26 10:55:17,840 - top2vec - INFO - Creating joint document/word embedding\n",
      "2023-04-26 10:57:29,451 - top2vec - INFO - Creating lower dimension embedding of documents\n",
      "2023-04-26 10:57:32,118 - top2vec - INFO - Finding dense areas of documents\n",
      "2023-04-26 10:57:32,413 - top2vec - INFO - Finding topics\n"
     ]
    }
   ],
   "source": [
    "def remove_punct(text):\n",
    "    text  = \"\".join([char for char in text if char not in string.punctuation])\n",
    "    text = re.sub('[0-9]+', '', text)\n",
    "    return text\n",
    "\n",
    "def count_remover(text,threshold=4):\n",
    "    if len(text.split())<threshold:\n",
    "        return pd.NaT\n",
    "    else:\n",
    "        return text\n",
    "\n",
    "data=pd.read_json('tweets.json' ,lines=True)\n",
    "df=data[[\"Text\",\"CreatedAt\"]].rename(columns={\"Text\":\"content\",\"CreatedAt\":\"time\"})\n",
    "df['content'] = df['content'].str.replace(r'@\\w+', '')\n",
    "df['content'] = df['content'].apply(lambda x: re.sub(r\"http\\S+\", \"\", x))\n",
    "df['content'] = df['content'].apply(lambda x: remove_punct(x))\n",
    "df['content'] = df['content'].apply(lambda x: count_remover(x))\n",
    "df=df.dropna()\n",
    "df[\"content\"]=df[\"content\"].swifter.apply(lambda x: preprocess_text(x))\n",
    "df=df.dropna()\n",
    "documents=df.content.tolist()\n",
    "\n",
    "model = Top2Vec(documents=df.content.tolist(),speed=\"deep-learn\", workers=12)\n",
    "#model.save(\"top2vec_EM_tweets\")"
   ],
   "metadata": {
    "collapsed": false
   }
  },
  {
   "cell_type": "code",
   "execution_count": 7,
   "outputs": [
    {
     "name": "stdout",
     "output_type": "stream",
     "text": [
      "164\n"
     ]
    }
   ],
   "source": [
    "topics=list(model.get_topics()[0])\n",
    "topics=[topic[:10] for topic in topics]\n",
    "print(len(topics))\n",
    "\n",
    "documents_distribution=[]\n",
    "for document in model.doc_top:\n",
    "    document_dist=np.zeros(len(topics))\n",
    "    document_dist[document]=1\n",
    "    documents_distribution.append(document_dist)\n",
    "documents_topic_distribution_array = np.vstack(documents_distribution)"
   ],
   "metadata": {
    "collapsed": false
   }
  },
  {
   "cell_type": "code",
   "execution_count": 9,
   "outputs": [],
   "source": [
    "import pickle\n",
    "with open(\"results/top2vec_EM_tweets_topics\", \"wb\") as fp:   #Pickling\n",
    "     pickle.dump(topics, fp)"
   ],
   "metadata": {
    "collapsed": false
   }
  },
  {
   "cell_type": "code",
   "execution_count": 4,
   "outputs": [],
   "source": [
    "model = Top2Vec.load(\"results/top2vec_20newgroup\")"
   ],
   "metadata": {
    "collapsed": false
   }
  },
  {
   "cell_type": "code",
   "execution_count": 5,
   "outputs": [
    {
     "name": "stdout",
     "output_type": "stream",
     "text": [
      "85\n"
     ]
    },
    {
     "data": {
      "text/plain": "[array(['bike', 'car', 'tire', 'rear', 'engine', 'riding', 'brake', 'ride',\n        'honda', 'mile'], dtype='<U14'),\n array(['christ', 'god', 'jesus', 'bible', 'christian', 'church', 'lord',\n        'heaven', 'scripture', 'faith'], dtype='<U14'),\n array(['god', 'atheist', 'belief', 'religion', 'christian',\n        'christianity', 'bible', 'truth', 'moral', 'faith'], dtype='<U14'),\n array(['patient', 'infection', 'doctor', 'treatment', 'disease', 'diet',\n        'medical', 'medicine', 'yeast', 'symptom'], dtype='<U14'),\n array(['pitching', 'hitter', 'pitcher', 'inning', 'hit', 'batting',\n        'team', 'season', 'dodger', 'game'], dtype='<U14'),\n array(['encryption', 'clipper', 'secure', 'nsa', 'encrypted', 'wiretap',\n        'escrow', 'privacy', 'cryptography', 'crypto'], dtype='<U14'),\n array(['fbi', 'compound', 'koresh', 'bd', 'batf', 'waco', 'atf',\n        'davidians', 'grenade', 'assault'], dtype='<U14'),\n array(['orbit', 'space', 'launch', 'shuttle', 'moon', 'nasa', 'mission',\n        'lunar', 'earth', 'spacecraft'], dtype='<U14'),\n array(['playoff', 'team', 'game', 'quebec', 'islander', 'bruin',\n        'montreal', 'sabre', 'winning', 'penguin'], dtype='<U14'),\n array(['israel', 'arab', 'israeli', 'palestinian', 'jew', 'peace',\n        'lebanese', 'lebanon', 'territory', 'jewish'], dtype='<U14'),\n array(['gun', 'crime', 'firearm', 'handgun', 'criminal', 'violent',\n        'armed', 'citizen', 'weapon', 'police'], dtype='<U14'),\n array(['application', 'program', 'programming', 'software', 'window',\n        'graphic', 'file', 'unix', 'code', 'database'], dtype='<U14'),\n array(['voltage', 'circuit', 'resistor', 'volt', 'amp', 'output', 'ohm',\n        'input', 'amplifier', 'pulse'], dtype='<U14'),\n array(['vlb', 'card', 'ati', 'bus', 'vl', 'isa', 'diamond', 'eisa',\n        'vesa', 'dx'], dtype='<U14'),\n array(['floppy', 'meg', 'drive', 'disk', 'monitor', 'baud', 'ram', 'sale',\n        'card', 'mb'], dtype='<U14'),\n array(['window', 'config', 'exe', 'file', 'ini', 'sys', 'installed',\n        'desktop', 'directory', 'program'], dtype='<U14'),\n array(['stereo', 'shipping', 'sale', 'speaker', 'deck', 'cassette', 'obo',\n        'offer', 'condition', 'sell'], dtype='<U14'),\n array(['mail', 'email', 'faq', 'ftp', 'mailing', 'information', 'address',\n        'comp', 'internet', 'anonymous'], dtype='<U14'),\n array(['drive', 'ide', 'controller', 'seagate', 'jumper', 'hd', 'bios',\n        'cmos', 'disk', 'floppy'], dtype='<U14'),\n array(['tax', 'bush', 'clinton', 'spending', 'income', 'fund',\n        'government', 'economy', 'congress', 'economic'], dtype='<U14'),\n array(['file', 'format', 'gif', 'bmp', 'image', 'jpeg', 'directory',\n        'tiff', 'program', 'ftp'], dtype='<U14'),\n array(['widget', 'window', 'app', 'application', 'button', 'xlib', 'null',\n        'void', 'dialog', 'pointer'], dtype='<U14'),\n array(['sunos', 'xdm', 'openwindows', 'server', 'login', 'window',\n        'sparc', 'client', 'terminal', 'tcp'], dtype='<U14'),\n array(['san', 'francisco', 'jose', 'diego', 'angeles', 'philadelphia',\n        'york', 'chicago', 'los', 'california'], dtype='<U14'),\n array(['armenian', 'argic', 'turkish', 'serdar', 'turk', 'armenia',\n        'azeri', 'genocide', 'soviet', 'turkey'], dtype='<U14'),\n array(['ftp', 'cica', 'zip', 'file', 'directory', 'pub', 'shareware',\n        'anonymous', 'msdos', 'indiana'], dtype='<U14'),\n array(['lc', 'lciii', 'fpu', 'slot', 'nubus', 'iisi', 'centris', 'pd',\n        'apple', 'card'], dtype='<U14'),\n array(['homosexual', 'gay', 'heterosexual', 'sexual', 'sex',\n        'homosexuality', 'partner', 'male', 'men', 'clayton'], dtype='<U14'),\n array(['colormap', 'dpy', 'gc', 'pixel', 'xlib', 'visual', 'width',\n        'window', 'default', 'display'], dtype='<U14'),\n array(['shipping', 'sale', 'forsale', 'offer', 'sell', 'cd', 'condition',\n        'disc', 'selling', 'obo'], dtype='<U14'),\n array(['heat', 'cooling', 'temperature', 'sink', 'thermal', 'water',\n        'air', 'hot', 'plant', 'tower'], dtype='<U14'),\n array(['connector', 'pin', 'port', 'serial', 'connect', 'cable', 'jumper',\n        'board', 'db', 'external'], dtype='<U14'),\n array(['mhz', 'intel', 'dx', 'cache', 'processor', 'cpu', 'faster',\n        'speed', 'sx', 'clock'], dtype='<U14'),\n array(['espn', 'hockey', 'playoff', 'game', 'nhl', 'coverage', 'abc',\n        'isle', 'season', 'baseball'], dtype='<U14'),\n array(['nhl', 'hockey', 'team', 'arena', 'season', 'north', 'canadian',\n        'league', 'minnesota', 'playoff'], dtype='<U14'),\n array(['print', 'printer', 'postscript', 'printing', 'font', 'window',\n        'laser', 'file', 'printed', 'adobe'], dtype='<U14'),\n array(['health', 'kid', 'care', 'people', 'clinton', 'child',\n        'government', 'deserve', 'country', 'liberal'], dtype='<U14'),\n array(['bosnian', 'serb', 'bosnia', 'muslim', 'troop', 'ethnic', 'war',\n        'un', 'genocide', 'turk'], dtype='<U14'),\n array(['duo', 'powerbook', 'pb', 'apple', 'mac', 'modem', 'ram',\n        'machine', 'portable', 'vendor'], dtype='<U14'),\n array(['dsl', 'geb', 'cadre', 'shameful', 'jxp', 'chastity', 'intellect',\n        'skepticism', 'gordon', 'surrender'], dtype='<U14'),\n array(['presentation', 'author', 'navy', 'scientific', 'virtual',\n        'reality', 'research', 'progress', 'mil', 'length'], dtype='<U14'),\n array(['modem', 'bps', 'bi', 'baud', 'compression', 'fax', 'software',\n        'hardware', 'connect', 'pc'], dtype='<U14'),\n array(['polygon', 'algorithm', 'surface', 'code', 'draw', 'drawing',\n        'routine', 'implementation', 'pixel', 'image'], dtype='<U14'),\n array(['amendment', 'militia', 'constitution', 'bear', 'congress', 'arm',\n        'shall', 'law', 'defend', 'weapon'], dtype='<U14'),\n array(['simm', 'simms', 'vram', 'mb', 'motherboard', 'ram', 'meg', 'dram',\n        'cache', 'slot'], dtype='<U14'),\n array(['unix', 'apps', 'nt', 'window', 'beta', 'platform', 'application',\n        'microsoft', 'product', 'version'], dtype='<U14'),\n array(['sweden', 'france', 'finland', 'switzerland', 'norway', 'italy',\n        'canada', 'germany', 'republic', 'russia'], dtype='<U14'),\n array(['tor', 'nyi', 'det', 'chi', 'bos', 'que', 'cal', 'pit', 'van',\n        'nj'], dtype='<U14'),\n array(['printer', 'ink', 'laser', 'print', 'postscript', 'cartridge',\n        'printing', 'hp', 'dot', 'paper'], dtype='<U14'),\n array(['clayton', 'homosexual', 'gay', 'sexual', 'heterosexual',\n        'homosexuality', 'associate', 'people', 'sex', 'christianity'],\n       dtype='<U14'),\n array(['noise', 'frequency', 'pink', 'hz', 'khz', 'spectrum', 'band',\n        'db', 'bandwidth', 'filter'], dtype='<U14'),\n array(['burst', 'cloud', 'distance', 'mechanism', 'spectrum', 'ray',\n        'energy', 'hole', 'detector', 'distribution'], dtype='<U14'),\n array(['australia', 'au', 'university', 'engineering', 'email', 'fax',\n        'electronic', 'computing', 'department', 'thanks'], dtype='<U14'),\n array(['uk', 'ac', 'fax', 'computing', 'internet', 'centre', 'chris',\n        'computer', 'university', 'email'], dtype='<U14'),\n array(['lens', 'camera', 'pocket', 'mm', 'film', 'flash', 'bag',\n        'shipping', 'sale', 'excellent'], dtype='<U14'),\n array(['mailing', 'list', 'mail', 'address', 'send', 'request', 'post',\n        'please', 'usenet', 'posted'], dtype='<U14'),\n array(['cd', 'rom', 'drive', 'nec', 'mac', 'sony', 'apple', 'mb',\n        'compatible', 'disk'], dtype='<U14'),\n array(['irq', 'interrupt', 'port', 'modem', 'serial', 'card', 'com', 'pc',\n        'mouse', 'jumper'], dtype='<U14'),\n array(['kent', 'christian', 'christianity', 'religion', 'god', 'bible',\n        'notion', 'truth', 'belief', 'religious'], dtype='<U14'),\n array(['tar', 'ftp', 'file', 'directory', 'demo', 'version', 'anonymous',\n        'pub', 'binary', 'sunos'], dtype='<U14'),\n array(['captain', 'traded', 'flyer', 'oiler', 'season', 'quebec', 'team',\n        'coach', 'ranger', 'jersey'], dtype='<U14'),\n array(['lib', 'libxmu', 'xmu', 'usr', 'symbol', 'sunos', 'ld', 'compile',\n        'openwindows', 'file'], dtype='<U14'),\n array(['queen', 'sea', 'bob', 'vice', 'stay', 'god', 'theist', 'atheist',\n        'religion', 'bobby'], dtype='<U14'),\n array(['registered', 'copy', 'pirate', 'user', 'protection', 'program',\n        'software', 'registration', 'compressed', 'scheme'], dtype='<U14'),\n array(['libertarian', 'regulation', 'government', 'society', 'economy',\n        'political', 'freedom', 'ideal', 'economic', 'implemented'],\n       dtype='<U14'),\n array(['forum', 'discussing', 'aspect', 'newsgroup', 'awful', 'ch',\n        'curious', 'split', 'post', 'group'], dtype='<U14'),\n array(['radar', 'detector', 'rf', 'virginia', 'receiver', 'car', 'police',\n        'detect', 'vehicle', 'band'], dtype='<U14'),\n array(['dma', 'ide', 'isa', 'controller', 'bus', 'transfer', 'scsi',\n        'eisa', 'mb', 'vl'], dtype='<U14'),\n array(['icon', 'window', 'manager', 'file', 'application', 'click',\n        'button', 'desktop', 'widget', 'program'], dtype='<U14'),\n array(['xv', 'shareware', 'permission', 'copyright', 'tiff', 'jpeg',\n        'commercial', 'copy', 'author', 'fee'], dtype='<U14'),\n array(['iraq', 'iran', 'war', 'islamic', 'peace', 'israeli', 'troop',\n        'movement', 'israel', 'bomb'], dtype='<U14'),\n array(['hotel', 'credit', 'package', 'award', 'night', 'reno', 'travel',\n        'camera', 'tax', 'film'], dtype='<U14'),\n array(['battery', 'acid', 'charged', 'storage', 'floor', 'stored', 'heat',\n        'dry', 'warm', 'charge'], dtype='<U14'),\n array(['motif', 'toolkit', 'unix', 'application', 'widget', 'xlib',\n        'platform', 'linux', 'window', 'xview'], dtype='<U14'),\n array(['radius', 'tommy', 'vision', 'tom', 'mystery', 'tm', 'sky',\n        'increase', 'tube', 'ibm'], dtype='<U14'),\n array(['scsi', 'mb', 'ide', 'burst', 'controller', 'interface', 'pc',\n        'fast', 'device', 'wide'], dtype='<U14'),\n array(['chemistry', 'edition', 'book', 'guide', 'manual', 'offer',\n        'copyright', 'page', 'principle', 'condition'], dtype='<U14'),\n array(['silver', 'buyer', 'price', 'shipping', 'metal', 'annual', 'men',\n        'sale', 'sold', 'dod'], dtype='<U14'),\n array(['uunet', 'uucp', 'everywhere', 'corp', 'internet', 'dave', 'al',\n        'scope', 'office', 'com'], dtype='<U14'),\n array(['francis', 'jagr', 'ice', 'player', 'penguin', 'nhl', 'season',\n        'team', 'talent', 'lemieux'], dtype='<U14'),\n array(['gilmour', 'detroit', 'toronto', 'leaf', 'team', 'player',\n        'playoff', 'clark', 'game', 'nhl'], dtype='<U14'),\n array(['moncton', 'rochester', 'springfield', 'gm', 'cape', 'providence',\n        'baltimore', 'ot', 'john', 'st'], dtype='<U14'),\n array(['hacker', 'computer', 'privacy', 'uci', 'ethic', 'jon',\n        'computing', 'ic', 'incoming', 'gate'], dtype='<U14'),\n array(['uci', 'ic', 'incoming', 'gif', 'edu', 'ftp', 'anonymous', 'grab',\n        'email', 'binary'], dtype='<U14'),\n array(['illinois', 'uiuc', 'debate', 'raise', 'tax', 'morality',\n        'clinton', 'michael', 'moral', 'class'], dtype='<U14')]"
     },
     "execution_count": 5,
     "metadata": {},
     "output_type": "execute_result"
    }
   ],
   "source": [
    "topics = list(model.get_topics()[0])\n",
    "topics = [topic[:10] for topic in topics]\n",
    "print(len(topics))\n",
    "\n",
    "documents_distribution = []\n",
    "for document in model.doc_top:\n",
    "    document_dist = np.zeros(len(topics))\n",
    "    document_dist[document] = 1\n",
    "    documents_distribution.append(document_dist)\n",
    "documents_topic_distribution_array = np.vstack(documents_distribution)\n",
    "topics"
   ],
   "metadata": {
    "collapsed": false
   }
  },
  {
   "cell_type": "code",
   "execution_count": 9,
   "outputs": [],
   "source": [
    "import pickle\n",
    "with open(\"results/top2vec_EM_tweets_topics\", \"wb\") as fp:   #Pickling\n",
    "     pickle.dump(topics, fp)\n",
    "with open(\"results/top2vec_EM_tweets_top_doc_dist\", \"wb\") as fp:   #Pickling\n",
    "     pickle.dump(documents_topic_distribution_array, fp)"
   ],
   "metadata": {
    "collapsed": false
   }
  },
  {
   "cell_type": "code",
   "execution_count": null,
   "outputs": [],
   "source": [],
   "metadata": {
    "collapsed": false
   }
  }
 ],
 "metadata": {
  "kernelspec": {
   "display_name": "Python 3",
   "language": "python",
   "name": "python3"
  },
  "language_info": {
   "codemirror_mode": {
    "name": "ipython",
    "version": 2
   },
   "file_extension": ".py",
   "mimetype": "text/x-python",
   "name": "python",
   "nbconvert_exporter": "python",
   "pygments_lexer": "ipython2",
   "version": "2.7.6"
  }
 },
 "nbformat": 4,
 "nbformat_minor": 0
}
